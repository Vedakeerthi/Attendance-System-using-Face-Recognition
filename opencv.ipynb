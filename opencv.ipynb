{
 "cells": [
  {
   "cell_type": "markdown",
   "id": "58cca0e3-1957-4f60-a7d6-f34a557a7e7a",
   "metadata": {},
   "source": [
    "# Face detection"
   ]
  },
  {
   "cell_type": "code",
   "execution_count": 80,
   "id": "84a71e8c",
   "metadata": {},
   "outputs": [],
   "source": [
    "import cv2\n",
    "face_cascade = cv2.CascadeClassifier('haarcascade_frontalface_default.xml')"
   ]
  },
  {
   "cell_type": "code",
   "execution_count": 81,
   "id": "f341c83e",
   "metadata": {},
   "outputs": [
    {
     "name": "stderr",
     "output_type": "stream",
     "text": [
      "<ipython-input-81-cfe35b833b3d>:17: DeprecationWarning: elementwise comparison failed; this will raise an error in the future.\n",
      "  if (faces !=()):\n"
     ]
    }
   ],
   "source": [
    "cap = cv2.VideoCapture('http://192.168.43.1:4747/mjpegfeed')\n",
    "# cap = cv2.VideoCapture(1)\n",
    "while True:\n",
    "    ## Read the frame\n",
    "    ok, img = cap.read()\n",
    "    if not ok:\n",
    "        print('Video Ending')\n",
    "        cap.release()\n",
    "        cv2.destroyAllWindows()\n",
    "        break\n",
    "    ## Convert to grayscale\n",
    "    gray = cv2.cvtColor(img, cv2.COLOR_BGR2GRAY)\n",
    "    ## Detect the faces\n",
    "    faces = face_cascade.detectMultiScale(gray, 1.1, 4)\n",
    "\n",
    "    ## Draw the rectangle around each face\n",
    "    for (x, y, w, h) in faces:\n",
    "        cv2.rectangle(img, (x, y), (x+w, y+h), (255, 0, 0), 2)\n",
    "    ## Display\n",
    "    cv2.imshow('img', img)\n",
    "    ## quit Press Key Q to quit and Close window\n",
    "    \n",
    "    if cv2.waitKey(1) & 0xFF == ord('q'):\n",
    "        # Release the VideoCapture object\n",
    "        cap.release()\n",
    "        # Close all window\n",
    "        cv2.destroyAllWindows()\n",
    "        break\n"
   ]
  },
  {
   "cell_type": "markdown",
   "id": "9cf0f9e1-01bb-436c-8a85-c6e62e94e5e8",
   "metadata": {},
   "source": [
    "# Image to Face Encoder"
   ]
  },
  {
   "cell_type": "code",
   "execution_count": 99,
   "id": "e4e66aaf-4ff7-46d5-8ee8-de9b6ca39c61",
   "metadata": {},
   "outputs": [],
   "source": [
    "from imutils import paths\n",
    "import face_recognition\n",
    "import pickle\n",
    "import cv2\n",
    "import os\n",
    " \n",
    "#get paths of each file in folder named Images\n",
    "#Images here contains my data(folders of various persons)\n",
    "imagePaths = list(paths.list_images('../Pictures/Ananth_/'))\n",
    "knownEncodings = []\n",
    "knownNames = []\n",
    "# loop over the image paths\n",
    "for (i, imagePath) in enumerate(imagePaths):\n",
    "    # extract the person name from the image path\n",
    "    name = imagePath.split(os.path.sep)[-1]\n",
    "    # load the input image and convert it from BGR (OpenCV ordering)\n",
    "    # to dlib ordering (RGB)\n",
    "    image = cv2.imread(imagePath)\n",
    "    rgb = cv2.cvtColor(image, cv2.COLOR_BGR2RGB)\n",
    "    #Use Face_recognition to locate faces\n",
    "    boxes = face_recognition.face_locations(rgb,model='hog')\n",
    "    # compute the facial embedding for the face\n",
    "    encodings = face_recognition.face_encodings(rgb, boxes)\n",
    "    # loop over the encodings\n",
    "    for encoding in encodings:\n",
    "        knownEncodings.append(encoding)\n",
    "        knownNames.append(name)\n",
    "#save emcodings along with their names in dictionary data\n",
    "data = {\"encodings\": knownEncodings, \"names\": knownNames}\n",
    "#use pickle to save data into a file for later use\n",
    "f = open(\"face_enc\", \"wb\")\n",
    "f.write(pickle.dumps(data))\n",
    "f.close()"
   ]
  },
  {
   "cell_type": "code",
   "execution_count": 8,
   "id": "a3ace746-cecf-44dc-bfd4-db239557b1f2",
   "metadata": {},
   "outputs": [
    {
     "name": "stdout",
     "output_type": "stream",
     "text": [
      "ananth0.jpg\n",
      "ananth2.jpg\n",
      "kamal2.jpg\n",
      "ananth1.jpg\n",
      "kamal3.jpg\n",
      "ananth4.jpg\n",
      "yogesh.jpg\n",
      "kamal0.jpg\n",
      "ananth3.jpg\n",
      "kamal1.jpg\n",
      "Ananth.jpg\n"
     ]
    }
   ],
   "source": [
    "from imutils import paths\n",
    "imagePaths = list(paths.list_images('../Pictures/Ananth_/'))\n",
    "for (i,imagepath) in enumerate(imagePaths):\n",
    "    print(imagepath.split(os.path.sep)[-1])"
   ]
  },
  {
   "cell_type": "markdown",
   "id": "b2881ad7-a5f2-4343-9e78-68c595cb58bb",
   "metadata": {},
   "source": [
    "# Face Recognition using Photo"
   ]
  },
  {
   "cell_type": "code",
   "execution_count": 102,
   "id": "9a36cb14-8d4b-44cf-8d2c-ef102ff241c0",
   "metadata": {},
   "outputs": [
    {
     "name": "stdout",
     "output_type": "stream",
     "text": [
      "[[264  84 179 179]]\n",
      "matched\n"
     ]
    }
   ],
   "source": [
    "import face_recognition\n",
    "import imutils\n",
    "import pickle\n",
    "import time\n",
    "import cv2\n",
    "import os\n",
    " \n",
    "#find path of xml file containing haarcascade file\n",
    "cascPathface = \"haarcascade_frontalface_default.xml\"\n",
    "# load the harcaascade in the cascade classifier\n",
    "faceCascade = cv2.CascadeClassifier(cascPathface)\n",
    "# load the known faces and embeddings saved in last file\n",
    "data = pickle.loads(open('face_enc', \"rb\").read())\n",
    "#Find path to the image you want to detect face and pass it here\n",
    "image = cv2.imread('../Pictures/Ananth_/navaneeth0.jpg' )\n",
    "\n",
    "rgb = cv2.cvtColor(image, cv2.COLOR_BGR2RGB)\n",
    "\n",
    "#convert image to Greyscale for haarcascade\n",
    "gray = cv2.cvtColor(image, cv2.COLOR_BGR2GRAY)\n",
    "# cv2.imshow(\"hi\",gray)\n",
    "# cv2.waitKey(15000)\n",
    "# cv2.destroyAllWindows()\n",
    "faces = faceCascade.detectMultiScale(gray,scaleFactor=1.1,minNeighbors=5,minSize=(60, 60),flags=cv2.CASCADE_SCALE_IMAGE)\n",
    "print(faces)\n",
    " \n",
    "# the facial embeddings for face in input\n",
    "encodings = face_recognition.face_encodings(rgb)\n",
    "names = []\n",
    "# loop over the facial embeddings incase\n",
    "# we have multiple embeddings for multiple fcaes\n",
    "for encoding in encodings:\n",
    "    #Compare encodings with encodings in data[\"encodings\"]\n",
    "    #Matches contain array with boolean values and True for the embeddings it matches closely\n",
    "    #and False for rest\n",
    "    matches = face_recognition.compare_faces(data[\"encodings\"],encoding,tolerance=0.44)\n",
    "    #set name =inknown if no encoding matches\n",
    "    name = \"Unknown\"\n",
    "    # check to see if we have found a match\n",
    "    if True in matches:\n",
    "        print(\"matched\")\n",
    "        #Find positions at which we get True and store them\n",
    "        matchedIdxs = [i for (i, b) in enumerate(matches) if b]\n",
    "        counts = {}\n",
    "        # loop over the matched indexes and maintain a count for\n",
    "        # each recognized face face\n",
    "        for i in matchedIdxs:\n",
    "            #Check the names at respective indexes we stored in matchedIdxs\n",
    "            name = data[\"names\"][i]\n",
    "            #increase count for the name we got\n",
    "            counts[name] = counts.get(name, 0) + 1\n",
    "            #set name which has highest count\n",
    "            name = max(counts, key=counts.get)\n",
    " \n",
    "        for ((x, y, w, h), name) in zip(faces, names):\n",
    "            # rescale the face coordinates\n",
    "            # draw the predicted face name on the image\n",
    "\n",
    "            cv2.rectangle(image, (x, y), (x + w, y + h), (0, 0, 255), 2)\n",
    "            cv2.putText(image, name, (x, y), cv2.FONT_HERSHEY_SIMPLEX,0.75, (255,255, 0), 2)\n",
    "        # update the list of names\n",
    "    names.append(name)\n",
    "        # loop over the recognized faces\n",
    "    for ((x, y, w, h), name) in zip(faces, names):\n",
    "        # rescale the face coordinates\n",
    "        # draw the predicted face name on the image\n",
    "\n",
    "        cv2.rectangle(image, (x, y), (x + w, y + h), (0, 0, 255), 2)\n",
    "        cv2.putText(image, name[:-5], (x, y), cv2.FONT_HERSHEY_SIMPLEX,0.75, (255,255, 0), 2)\n",
    "    cv2.imshow(\"Frame\", image)\n",
    "    cv2.waitKey(0)\n",
    "    cv2.destroyAllWindows()"
   ]
  },
  {
   "cell_type": "code",
   "execution_count": null,
   "id": "0ebccdb3-1e1e-4588-a1d3-7eb94eb1987b",
   "metadata": {},
   "outputs": [],
   "source": [
    "\n",
    "j=open('face_enc','rb')\n",
    "print(pickle.load(j))\n"
   ]
  },
  {
   "cell_type": "markdown",
   "id": "8ebe36a3-37c2-41ad-99f2-3b011215eaec",
   "metadata": {},
   "source": [
    "# Face Recognition Live Feed"
   ]
  },
  {
   "cell_type": "code",
   "execution_count": 197,
   "id": "69607211-ce29-4424-984b-277f4b15a003",
   "metadata": {},
   "outputs": [
    {
     "name": "stdout",
     "output_type": "stream",
     "text": [
      "Streaming started\n"
     ]
    }
   ],
   "source": [
    "import face_recognition\n",
    "import imutils\n",
    "import pickle\n",
    "import time\n",
    "import cv2\n",
    "import os\n",
    " \n",
    "#find path of xml file containing haarcascade file \n",
    "cascPathface = \"haarcascade_frontalface_default.xml\"\n",
    "# load the harcaascade in the cascade classifier\n",
    "faceCascade = cv2.CascadeClassifier(cascPathface)\n",
    "# load the known faces and embeddings saved in last file\n",
    "data = pickle.loads(open('face_enc', \"rb\").read())\n",
    " \n",
    "print(\"Streaming started\")\n",
    "video_capture = cv2.VideoCapture('http://192.168.43.1:4747/mjpegfeed')\n",
    "# video_capture = cv2.VideoCapture(1)\n",
    "# loop over frames from the video file stream\n",
    "names=[]\n",
    "while True:\n",
    "    # grab the frame from the threaded video stream\n",
    "    ret, frame = video_capture.read()\n",
    "    gray = cv2.cvtColor(frame, cv2.COLOR_BGR2GRAY)\n",
    "    faces = faceCascade.detectMultiScale(gray,\n",
    "                                         scaleFactor=1.1,\n",
    "                                         minNeighbors=6,\n",
    "                                         minSize=(60, 60),\n",
    "                                         flags=cv2.CASCADE_SCALE_IMAGE)\n",
    " \n",
    "    # convert the input frame from BGR to RGB \n",
    "    rgb = cv2.cvtColor(frame, cv2.COLOR_BGR2RGB)\n",
    "    # the facial embeddings for face in input\n",
    "    encodings = face_recognition.face_encodings(rgb)\n",
    "    # loop over the facial embeddings incase\n",
    "    # we have multiple embeddings for multiple fcaes\n",
    "    pseudo_names=[]\n",
    "    for encoding in encodings:\n",
    "       #Compare encodings with encodings in data[\"encodings\"]\n",
    "       #Matches contain array with boolean values and True for the embeddings it matches closely\n",
    "       #and False for rest\n",
    "        matches = face_recognition.compare_faces(data[\"encodings\"],encoding,tolerance=0.44)\n",
    "        #set name =inknown if no encoding matches\n",
    "        name = \"Unknown     \"\n",
    "        # check to see if we have found a match\n",
    "        if True in matches:\n",
    "            #Find positions at which we get True and store them\n",
    "            matchedIdxs = [i for (i, b) in enumerate(matches) if b]\n",
    "            counts = {}\n",
    "            # loop over the matched indexes and maintain a count for\n",
    "            # each recognized face face\n",
    "            for i in matchedIdxs:\n",
    "                #Check the names at respective indexes we stored in matchedIdxs\n",
    "                name = data[\"names\"][i]\n",
    "                #increase count for the name we got\n",
    "                counts[name] = counts.get(name, 0) + 1\n",
    "            #set name which has highest count\n",
    "            name = max(counts, key=counts.get)\n",
    "        # update the list of names\n",
    "            names.append(name)\n",
    "            pseudo_names.append(name)\n",
    "            \n",
    "\n",
    "        # loop over the recognized faces\n",
    "        for ((x, y, w, h), name) in zip(faces, pseudo_names):\n",
    "            # rescale the face coordinates\n",
    "            # draw the predicted face name on the image\n",
    "            cv2.rectangle(frame, (x, y), (x + w, y + h), (0, 255, 0), 2)\n",
    "            cv2.putText(frame, name[:-5], (x, y), cv2.FONT_HERSHEY_SIMPLEX,0.75, (0, 255, 0), 2)\n",
    "    cv2.imshow(\"Frame\", frame)\n",
    "    if cv2.waitKey(1)&0xFF == ord('q'):\n",
    "        break\n",
    "video_capture.release()\n",
    "cv2.destroyAllWindows()"
   ]
  },
  {
   "cell_type": "markdown",
   "id": "a82168a2-e160-4b1b-bee6-47fca2f894df",
   "metadata": {},
   "source": [
    "# Attendance Marker"
   ]
  },
  {
   "cell_type": "code",
   "execution_count": 194,
   "id": "43911086-0aca-45a6-948b-19323eb60d31",
   "metadata": {},
   "outputs": [
    {
     "data": {
      "text/plain": [
       "['ananth', 'veda']"
      ]
     },
     "execution_count": 194,
     "metadata": {},
     "output_type": "execute_result"
    }
   ],
   "source": [
    "namesa = list({name[:-5] for name in names})\n",
    "namesa"
   ]
  },
  {
   "cell_type": "code",
   "execution_count": 178,
   "id": "3ec1506c-1544-4060-95fc-0b2b3c3f60f6",
   "metadata": {},
   "outputs": [],
   "source": [
    "import xlsxwriter\n",
    "import time\n",
    "\n",
    "date = time.strftime('%d-%m-%Y')\n",
    "time = time.strftime('%H-%M-%S')\n",
    "\n",
    "workbook = xlsxwriter.Workbook(str(date)+' CSE (AI & ML).xlsx')\n",
    "worksheet = workbook.add_worksheet(str(date))\n",
    "\n",
    "worksheet.write(0,0,'NAME')\n",
    "worksheet.write(0,1,'TIME')\n",
    "\n",
    "for i in range(len(namesa)):\n",
    "    if namesa[i][0]!='U': \n",
    "        worksheet.write(i+1,0,namesa[i])\n",
    "        worksheet.write(i+1,1,time)\n",
    "    \n",
    "workbook.close()"
   ]
  },
  {
   "cell_type": "code",
   "execution_count": 168,
   "id": "e10cf5d5-1678-4008-ab16-f1e273a6286b",
   "metadata": {},
   "outputs": [
    {
     "data": {
      "text/plain": [
       "False"
      ]
     },
     "execution_count": 168,
     "metadata": {},
     "output_type": "execute_result"
    }
   ],
   "source": [
    "import pandas as pd\n",
    "df=pd.read_excel(\"27-10-2021 CSE (AI & ML).xlsx\")\n",
    "df.empty"
   ]
  }
 ],
 "metadata": {
  "interpreter": {
   "hash": "b276197c875f9ad323c9da60789596a5dbbccbc5d3670c37363ad47f90b8fcf6"
  },
  "kernelspec": {
   "display_name": "Python [conda env:cv2]",
   "language": "python",
   "name": "conda-env-cv2-py"
  },
  "language_info": {
   "codemirror_mode": {
    "name": "ipython",
    "version": 3
   },
   "file_extension": ".py",
   "mimetype": "text/x-python",
   "name": "python",
   "nbconvert_exporter": "python",
   "pygments_lexer": "ipython3",
   "version": "3.8.12"
  }
 },
 "nbformat": 4,
 "nbformat_minor": 5
}
